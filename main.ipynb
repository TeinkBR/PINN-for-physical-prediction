{
 "cells": [
  {
   "cell_type": "code",
   "execution_count": 1,
   "id": "290de26e-54d6-445c-8c3b-daab653c87f2",
   "metadata": {},
   "outputs": [],
   "source": [
    "import torch\n",
    "import numpy as np\n",
    "from scipy.stats import qmc\n",
    "from physics import is_inside_nozzle, is_on_nozzle_boundary\n",
    "from loss import compute_loss  # Add this line\n",
    "from physics import kappa_e, I_b, epsilon_lambda_w, direction_vector, KAPPA_SCALE\n",
    "device = torch.device(\"cpu\")  # if you want to use cpu\n",
    "#device = torch.device(\"mps\") if torch.backends.mps.is_available() else torch.device(\"cpu\") # disable this if you want cpu"
   ]
  },
  {
   "cell_type": "code",
   "execution_count": 2,
   "id": "6494dbb9-0478-4900-a321-71b7fa442878",
   "metadata": {},
   "outputs": [],
   "source": [
    "z_target=0.7"
   ]
  },
  {
   "cell_type": "code",
   "execution_count": 3,
   "id": "b575c911-32ec-41c4-8002-51695250b779",
   "metadata": {},
   "outputs": [],
   "source": [
    "import matplotlib.pyplot as plt"
   ]
  },
  {
   "cell_type": "code",
   "execution_count": 4,
   "id": "3fd46387-3d90-4caa-a84d-2544b3e3813d",
   "metadata": {},
   "outputs": [
    {
     "name": "stdout",
     "output_type": "stream",
     "text": [
      "True\n"
     ]
    }
   ],
   "source": [
    "print(torch.backends.mps.is_available())"
   ]
  },
  {
   "cell_type": "code",
   "execution_count": 5,
   "id": "4ff1ba1a-f6a8-4b0e-b0e6-ec6c351d53cc",
   "metadata": {},
   "outputs": [],
   "source": [
    "import os\n",
    "os.makedirs(\"./figures\", exist_ok=True)\n",
    "os.makedirs(\"./models\", exist_ok=True)"
   ]
  },
  {
   "cell_type": "code",
   "execution_count": 6,
   "id": "af884d4f-a6fe-4b2a-bea2-317022df556e",
   "metadata": {},
   "outputs": [
    {
     "name": "stdout",
     "output_type": "stream",
     "text": [
      "正在使用的设备: cpu\n"
     ]
    }
   ],
   "source": [
    "print(f\"正在使用的设备: {device}\")"
   ]
  },
  {
   "cell_type": "code",
   "execution_count": 7,
   "id": "6b7aae16-58ff-4d3c-87bb-337e7b5be6a1",
   "metadata": {},
   "outputs": [
    {
     "ename": "ModuleNotFoundError",
     "evalue": "No module named 'pinn_loss'",
     "output_type": "error",
     "traceback": [
      "\u001b[0;31m---------------------------------------------------------------------------\u001b[0m",
      "\u001b[0;31mModuleNotFoundError\u001b[0m                       Traceback (most recent call last)",
      "Cell \u001b[0;32mIn[7], line 3\u001b[0m\n\u001b[1;32m      1\u001b[0m \u001b[38;5;28;01mfrom\u001b[39;00m\u001b[38;5;250m \u001b[39m\u001b[38;5;21;01mdata_generation\u001b[39;00m\u001b[38;5;250m \u001b[39m\u001b[38;5;28;01mimport\u001b[39;00m generate_los_data\n\u001b[1;32m      2\u001b[0m \u001b[38;5;28;01mfrom\u001b[39;00m\u001b[38;5;250m \u001b[39m\u001b[38;5;21;01mmodel\u001b[39;00m\u001b[38;5;250m \u001b[39m\u001b[38;5;28;01mimport\u001b[39;00m ResPINN\n\u001b[0;32m----> 3\u001b[0m \u001b[38;5;28;01mfrom\u001b[39;00m\u001b[38;5;250m \u001b[39m\u001b[38;5;21;01mtrain\u001b[39;00m\u001b[38;5;250m \u001b[39m\u001b[38;5;28;01mimport\u001b[39;00m train_model\n\u001b[1;32m      4\u001b[0m \u001b[38;5;28;01mfrom\u001b[39;00m\u001b[38;5;250m \u001b[39m\u001b[38;5;21;01mvisualize\u001b[39;00m\u001b[38;5;250m \u001b[39m\u001b[38;5;28;01mimport\u001b[39;00m plot_history, plot_predictions,plot_raw_data\n\u001b[1;32m      5\u001b[0m \u001b[38;5;28;01mfrom\u001b[39;00m\u001b[38;5;250m \u001b[39m\u001b[38;5;21;01msampling\u001b[39;00m\u001b[38;5;250m \u001b[39m\u001b[38;5;28;01mimport\u001b[39;00m generate_training_data\n",
      "File \u001b[0;32m~/Downloads/Side_project/nozzle_projec/train.py:7\u001b[0m\n\u001b[1;32m      5\u001b[0m \u001b[38;5;28;01mfrom\u001b[39;00m\u001b[38;5;250m \u001b[39m\u001b[38;5;21;01msampling\u001b[39;00m\u001b[38;5;250m \u001b[39m\u001b[38;5;28;01mimport\u001b[39;00m generate_training_data, residual_adaptive_sampling\n\u001b[1;32m      6\u001b[0m \u001b[38;5;28;01mimport\u001b[39;00m\u001b[38;5;250m \u001b[39m\u001b[38;5;21;01mnumpy\u001b[39;00m\u001b[38;5;250m \u001b[39m\u001b[38;5;28;01mas\u001b[39;00m\u001b[38;5;250m \u001b[39m\u001b[38;5;21;01mnp\u001b[39;00m\n\u001b[0;32m----> 7\u001b[0m \u001b[38;5;28;01mimport\u001b[39;00m\u001b[38;5;250m \u001b[39m\u001b[38;5;21;01mpinn_loss\u001b[39;00m  \u001b[38;5;66;03m# C++ module\u001b[39;00m\n\u001b[1;32m      9\u001b[0m \u001b[38;5;28;01mdef\u001b[39;00m\u001b[38;5;250m \u001b[39m\u001b[38;5;21mcompute_mre\u001b[39m(model, coords, I_true, ri_mean, ri_std, device, boundary_only\u001b[38;5;241m=\u001b[39m\u001b[38;5;28;01mFalse\u001b[39;00m):\n\u001b[1;32m     10\u001b[0m     model\u001b[38;5;241m.\u001b[39meval()\n",
      "\u001b[0;31mModuleNotFoundError\u001b[0m: No module named 'pinn_loss'"
     ]
    }
   ],
   "source": [
    "from data_generation import generate_los_data\n",
    "from model import ResPINN\n",
    "from train import train_model\n",
    "from visualize import plot_history, plot_predictions,plot_raw_data\n",
    "from sampling import generate_training_data"
   ]
  },
  {
   "cell_type": "code",
   "execution_count": null,
   "id": "dbb97dcb-a9c7-451e-ba42-8cd88aea2c07",
   "metadata": {},
   "outputs": [],
   "source": [
    "pinn_model = ResPINN(num_hidden_layers=6, num_neurons=64)"
   ]
  },
  {
   "cell_type": "code",
   "execution_count": null,
   "id": "1cf4e057-e6a5-4098-ad25-28201726f7e0",
   "metadata": {},
   "outputs": [],
   "source": [
    "# Train the model (recommended settings, but test settings commented)\n",
    "#pinn_model, history, coords, I_true, ri_mean, ri_std, ri_mean_original, ri_std_original = train_model(\n",
    "#   pinn_model, num_epochs=20, batch_size=2096\n",
    "#)\n",
    "# For testing: \n",
    "pinn_model, history, coords, I_true, ri_mean, ri_std, ri_mean_original, ri_std_original = train_model(\n",
    "    pinn_model, num_epochs=200, batch_size=4096)"
   ]
  },
  {
   "cell_type": "code",
   "execution_count": null,
   "id": "2aa79d75-4336-4da1-be67-071f1417b819",
   "metadata": {},
   "outputs": [],
   "source": [
    "# Plot training history and predictions\n",
    "plot_history(history)\n",
    "plot_predictions(pinn_model, coords, I_true, ri_mean, ri_std,z_target)"
   ]
  },
  {
   "cell_type": "code",
   "execution_count": null,
   "id": "a3c780eb-1116-4f82-b8db-0c4f57a517aa",
   "metadata": {},
   "outputs": [],
   "source": []
  }
 ],
 "metadata": {
  "kernelspec": {
   "display_name": "pinn_env",
   "language": "python",
   "name": "python3"
  },
  "language_info": {
   "codemirror_mode": {
    "name": "ipython",
    "version": 3
   },
   "file_extension": ".py",
   "mimetype": "text/x-python",
   "name": "python",
   "nbconvert_exporter": "python",
   "pygments_lexer": "ipython3",
   "version": "3.9.23"
  }
 },
 "nbformat": 4,
 "nbformat_minor": 5
}
