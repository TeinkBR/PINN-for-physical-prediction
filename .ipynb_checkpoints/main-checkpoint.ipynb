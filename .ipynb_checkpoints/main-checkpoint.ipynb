{
 "cells": [
  {
   "cell_type": "code",
   "execution_count": 1,
   "id": "290de26e-54d6-445c-8c3b-daab653c87f2",
   "metadata": {},
   "outputs": [],
   "source": [
    "import torch\n",
    "import numpy as np\n",
    "from scipy.stats import qmc\n",
    "from physics import is_inside_nozzle, is_on_nozzle_boundary\n",
    "from loss import compute_loss  # Add this line\n",
    "from physics import kappa_e, I_b, epsilon_lambda_w, direction_vector, KAPPA_SCALE\n",
    "device = torch.device(\"cpu\")  # if you want to use cpu\n",
    "#device = torch.device(\"mps\") if torch.backends.mps.is_available() else torch.device(\"cpu\") # disable this if you want cpu"
   ]
  },
  {
   "cell_type": "code",
   "execution_count": 2,
   "id": "b575c911-32ec-41c4-8002-51695250b779",
   "metadata": {},
   "outputs": [],
   "source": [
    "import matplotlib.pyplot as plt"
   ]
  },
  {
   "cell_type": "code",
   "execution_count": 3,
   "id": "3fd46387-3d90-4caa-a84d-2544b3e3813d",
   "metadata": {},
   "outputs": [
    {
     "name": "stdout",
     "output_type": "stream",
     "text": [
      "True\n"
     ]
    }
   ],
   "source": [
    "print(torch.backends.mps.is_available())"
   ]
  },
  {
   "cell_type": "code",
   "execution_count": 4,
   "id": "4ff1ba1a-f6a8-4b0e-b0e6-ec6c351d53cc",
   "metadata": {},
   "outputs": [],
   "source": [
    "import os\n",
    "os.makedirs(\"./figures\", exist_ok=True)\n",
    "os.makedirs(\"./models\", exist_ok=True)"
   ]
  },
  {
   "cell_type": "code",
   "execution_count": 5,
   "id": "af884d4f-a6fe-4b2a-bea2-317022df556e",
   "metadata": {},
   "outputs": [
    {
     "name": "stdout",
     "output_type": "stream",
     "text": [
      "正在使用的设备: cpu\n"
     ]
    }
   ],
   "source": [
    "print(f\"正在使用的设备: {device}\")"
   ]
  },
  {
   "cell_type": "code",
   "execution_count": 6,
   "id": "6b7aae16-58ff-4d3c-87bb-337e7b5be6a1",
   "metadata": {},
   "outputs": [],
   "source": [
    "from data_generation import generate_los_data\n",
    "from model import ResPINN\n",
    "from train import train_model\n",
    "from visualize import plot_history, plot_predictions,plot_raw_data\n",
    "from sampling import generate_training_data"
   ]
  },
  {
   "cell_type": "code",
   "execution_count": 7,
   "id": "dbb97dcb-a9c7-451e-ba42-8cd88aea2c07",
   "metadata": {},
   "outputs": [],
   "source": [
    "pinn_model = ResPINN(num_hidden_layers=6, num_neurons=64)"
   ]
  },
  {
   "cell_type": "code",
   "execution_count": null,
   "id": "1cf4e057-e6a5-4098-ad25-28201726f7e0",
   "metadata": {},
   "outputs": [
    {
     "name": "stdout",
     "output_type": "stream",
     "text": [
      "Loading preprocessed data from: processed_data.pt\n",
      "开始训练，使用 AdamW 优化器...\n"
     ]
    },
    {
     "name": "stderr",
     "output_type": "stream",
     "text": [
      "/Users/jingyili/miniforge3/envs/pinn_env/lib/python3.9/site-packages/torch/optim/lr_scheduler.py:28: UserWarning: The verbose parameter is deprecated. Please use get_last_lr() to access the learning rate.\n",
      "  warnings.warn(\"The verbose parameter is deprecated. Please use get_last_lr() \"\n"
     ]
    }
   ],
   "source": [
    "# Train the model (recommended settings, but test settings commented)\n",
    "#pinn_model, history, coords, I_true, ri_mean, ri_std, ri_mean_original, ri_std_original = train_model(\n",
    "#   pinn_model, num_epochs=20, batch_size=2096\n",
    "#)\n",
    "# For testing: \n",
    "pinn_model, history, coords, I_true, ri_mean, ri_std, ri_mean_original, ri_std_original = train_model(\n",
    "    pinn_model, num_epochs=200, batch_size=4096)"
   ]
  },
  {
   "cell_type": "code",
   "execution_count": null,
   "id": "2aa79d75-4336-4da1-be67-071f1417b819",
   "metadata": {},
   "outputs": [],
   "source": [
    "# Plot training history and predictions\n",
    "plot_history(history)\n",
    "plot_predictions(pinn_model, coords, I_true, ri_mean, ri_std)"
   ]
  },
  {
   "cell_type": "code",
   "execution_count": null,
   "id": "26ea0278-a60d-45b3-9ac0-b35803108229",
   "metadata": {},
   "outputs": [],
   "source": []
  }
 ],
 "metadata": {
  "kernelspec": {
   "display_name": "Python 3 (ipykernel)",
   "language": "python",
   "name": "python3"
  },
  "language_info": {
   "codemirror_mode": {
    "name": "ipython",
    "version": 3
   },
   "file_extension": ".py",
   "mimetype": "text/x-python",
   "name": "python",
   "nbconvert_exporter": "python",
   "pygments_lexer": "ipython3",
   "version": "3.9.23"
  }
 },
 "nbformat": 4,
 "nbformat_minor": 5
}
